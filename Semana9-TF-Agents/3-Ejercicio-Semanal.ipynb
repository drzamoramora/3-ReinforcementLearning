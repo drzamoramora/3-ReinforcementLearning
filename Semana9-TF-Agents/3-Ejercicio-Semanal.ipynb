{
 "cells": [
  {
   "cell_type": "markdown",
   "id": "e0a0d2e5",
   "metadata": {},
   "source": [
    "## Juegos de Atari\n",
    "\n",
    "El codigo del notebook 2 se puede utilizar para entrenar otros juegos de atari? Le toca descubrir esto a ud!\n",
    "\n",
    "Puede escoger el juego de su preferencia aqui:\n",
    "\n",
    "https://gym.openai.com/envs/#atari\n",
    "\n",
    "Debe intentar entrenar un juego utilizando la teoria de TF-Agents y la aquitectura vista en clase!\n",
    "\n",
    "Algunas recomendaciones del profe:\n",
    "\n",
    "- https://gym.openai.com/envs/Enduro-v0/\n",
    "- https://gym.openai.com/envs/MsPacman-v0/\n",
    "- https://gym.openai.com/envs/Pong-v0/\n",
    "- https://gym.openai.com/envs/SpaceInvaders-v0/"
   ]
  },
  {
   "cell_type": "code",
   "execution_count": null,
   "id": "f6f04ca9",
   "metadata": {},
   "outputs": [],
   "source": []
  }
 ],
 "metadata": {
  "kernelspec": {
   "display_name": "Python 3",
   "language": "python",
   "name": "python3"
  },
  "language_info": {
   "codemirror_mode": {
    "name": "ipython",
    "version": 3
   },
   "file_extension": ".py",
   "mimetype": "text/x-python",
   "name": "python",
   "nbconvert_exporter": "python",
   "pygments_lexer": "ipython3",
   "version": "3.6.13"
  }
 },
 "nbformat": 4,
 "nbformat_minor": 5
}
