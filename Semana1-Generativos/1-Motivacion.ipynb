{
 "cells": [
  {
   "cell_type": "markdown",
   "metadata": {},
   "source": [
    "# Motivación\n",
    "\n",
    "Hasta hoy, casi todo lo que hemos hecho: modelos discriminativos, aprendizaje supervisado. Es decir, $p(x | y)$.\n",
    "  \n",
    "En la primera parte de este curso, estudiaremos modelos de  $p(x,y)$. \n",
    "**¿Para qué?**\n",
    "\n",
    "1. Exploración de datos\n",
    "  - Lo obvio: util para *científicos de datos*\n",
    "    - Modelos interpretables\n",
    "  - Parámetros útiles para otros modelos subsiguientes\n",
    "    \n",
    "    \n",
    "2. Generación de contenido realista\n",
    "  - https://thisartworkdoesnotexist.com/ | https://thiscatdoesnotexist.com/ | https://thispersondoesnotexist.com/\n",
    "  - Útil en múltiples industrias\n",
    "\n",
    "\n",
    "## Procesos generativos\n",
    "\n",
    "Idea general:\n",
    "  - Algoritmo que *describe* al dataset\n",
    "  - De contar con los parámetros correctos, capaz de reproducir el dataset\n",
    "  - Objetivo de aprendizaje: **encontrar esos parámetros**\n",
    "  - Formalmente, dado un dataset $X = \\lbrace x_1, x_2, \\ldots, x_N \\rbrace $, nuestro objetivo es encontrar los valores para los parámetros $\\theta$ que **maximizan** la función de **verosimilitud**\n",
    "  $$ \\mathcal{L} \\left(\\theta |  X\\right) = \\prod_{i=1}^{N} p\\left( \\theta | x_i \\right)$$\n",
    "  \n",
    "  - Intuitivamente, los valores de $\\theta$ bajo los que $X$ es más probable. \n",
    "  - Suposición importante: **i.i.d.**\n",
    "    - Por eso la productoria\n",
    "    - Rev: caso de modelos secuenciales\n",
    "  - Inferencia estadística en esteroides\n",
    "  - Lo que vamos a estudiar\n",
    "      - Modelos de mixturas (gaussianas en particular)\n",
    "      - Manifold learning\n",
    "      - Modelos de tópicos (LDA) y de secuencias categóricas (HMM)\n",
    "      - Autoencoders\n",
    "      - Redes adversarias generativas"
   ]
  }
 ],
 "metadata": {
  "kernelspec": {
   "display_name": "Python 3",
   "language": "python",
   "name": "python3"
  },
  "language_info": {
   "codemirror_mode": {
    "name": "ipython",
    "version": 3
   },
   "file_extension": ".py",
   "mimetype": "text/x-python",
   "name": "python",
   "nbconvert_exporter": "python",
   "pygments_lexer": "ipython3",
   "version": "3.8.6"
  }
 },
 "nbformat": 4,
 "nbformat_minor": 4
}
