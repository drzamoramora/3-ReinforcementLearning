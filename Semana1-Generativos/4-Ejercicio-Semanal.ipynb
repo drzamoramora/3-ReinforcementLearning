{
 "cells": [
  {
   "cell_type": "markdown",
   "metadata": {},
   "source": [
    "# Tarea: Semana 1\n",
    " \n",
    "Para esta tarea, vamos a trabajar con el dataset de dígitos de MNIST."
   ]
  },
  {
   "cell_type": "code",
   "execution_count": null,
   "metadata": {},
   "outputs": [],
   "source": [
    "# Importamos MNIST desde OpenML\n",
    "from sklearn import datasets\n",
    "x = datasets.fetch_openml('mnist_784')"
   ]
  },
  {
   "cell_type": "code",
   "execution_count": null,
   "metadata": {},
   "outputs": [],
   "source": [
    "# Dibujemos algunos dígitos\n",
    "import matplotlib.pyplot as plt\n",
    "pa_ver = [1, 6, 5, 7, 2, 35, 32, 38, 41, 43]\n",
    "for i in pa_ver:\n",
    "    z = x['data'][i].reshape((28,28))\n",
    "    plt.imshow(z)\n",
    "    plt.show()"
   ]
  },
  {
   "cell_type": "markdown",
   "metadata": {},
   "source": [
    "## Parte 1: Generación de contenido usando GMM y PCA\n",
    "\n",
    "Vamos a utilizar PCA y GMM en conjunto para generar contenido similar a MNIST.\n",
    "\n",
    "Los pasos de entrenamiento serán los siguientes:\n",
    "\n",
    "1. Tomar una muestra del 10% (7,000 filas) de MNIST \n",
    "2. Entrenar PCA sobre la muestra\n",
    "3. Utilizar PCA para transformar la muestra en un dataset de menor dimensionalidad\n",
    "4. Entrenar GMM con el dataset de dimensiones reducidas\n",
    "\n",
    "Una vez entrenados los modelos, utilizaremos el siguiente procedimiento para generar nuevas imágenes:\n",
    "\n",
    "1. Obtener una imágen de la GMM, en el espacio de dimensionalidad reducida\n",
    "2. Utilizar la transformación inversa de PCA para obtener la imágen completa"
   ]
  },
  {
   "cell_type": "code",
   "execution_count": null,
   "metadata": {},
   "outputs": [],
   "source": [
    "# Problema 1.1 (PUNTUACIÓN: 1 punto). \n",
    "# ==> Tomar una muestra reducida de tamaño 7000, sin reemplazo\n",
    "import numpy as np\n",
    "indices_muestra = # TODO: use np.random.choice\n",
    "\n",
    "x_muestra = x['data'][indices_muestra]\n",
    "\n",
    "x_muestra.shape\n",
    "# debe dar (7000, 784)"
   ]
  },
  {
   "cell_type": "code",
   "execution_count": null,
   "metadata": {},
   "outputs": [],
   "source": [
    "# Problema 1.2 (PUNTUACIÓN: 2 puntos). \n",
    "# ==> Entrenar PCA con esta muestra para conservar el 98% de la varianza en los componentes\n",
    "from sklearn.decomposition import PCA\n",
    "\n",
    "pca = PCA(0.99)\n",
    "\n",
    "# ==> Utilizar el modelo PCA entrenado para transformar dicha muestra \n",
    "x_pca = # TODO: Aplique PCA fit transform"
   ]
  },
  {
   "cell_type": "markdown",
   "metadata": {},
   "source": [
    "**Notas importantes sobre las mixturas gaussianas**:\n",
    "1. Los estudiantes son libres de escoger entre una mixtura gaussiana convencional y una bayesiana\n",
    "2. Deben encontrar un número de componentes de mixtura apropiado para generar imágenes realistas\n",
    "3. Este número puede variar mucho, pero un número apropiado entre ``2`` y el número de dimensiones reducidas (disponible como ``x_pca.shape[a]``)"
   ]
  },
  {
   "cell_type": "code",
   "execution_count": null,
   "metadata": {},
   "outputs": [],
   "source": [
    "# Problema 1.3 (PUNTUACIÓN: 3 puntos)\n",
    "# ==> Entrenar un modelo de mixtura gaussiana sobre los datos transformados, encontrar un número apropiado de componentes\n",
    "from sklearn.mixture import BayesianGaussianMixture\n",
    "from sklearn.mixture import GaussianMixture\n",
    "gmm = # TODO: define el modelo gmm \n",
    "gmm.fit(x_pca)"
   ]
  },
  {
   "cell_type": "code",
   "execution_count": null,
   "metadata": {},
   "outputs": [],
   "source": [
    "# Problema 1.4 (PUNTUACIÓN: 2 puntos)\n",
    "# ==> Definir la función que produce una imágen de la GMM, la re-escala y la deja en tamaño 28x28\n",
    "def generar_imagen():\n",
    "    sample = # TODO: generar un sample del gmm\n",
    "    return pca.inverse_transform(sample).reshape((28,28))"
   ]
  },
  {
   "cell_type": "code",
   "execution_count": null,
   "metadata": {},
   "outputs": [],
   "source": [
    "### CODIGO PARA PROBAR SUS MODELOS ###\n",
    "plt.imshow(generar_imagen())\n",
    "plt.show()\n",
    "plt.imshow(generar_imagen())\n",
    "plt.show()\n",
    "plt.imshow(generar_imagen())\n",
    "plt.show()"
   ]
  },
  {
   "cell_type": "markdown",
   "metadata": {},
   "source": [
    "## Parte 2: t-SNE sobre MNIST\n",
    "\n",
    "Haremos algo de exploración de datos con MNIST. Obtendremos una muestra de 1,000 valores y conservaremos las etiquetas (para dibujarlas con colores en el espacio reducido)."
   ]
  },
  {
   "cell_type": "code",
   "execution_count": null,
   "metadata": {},
   "outputs": [],
   "source": [
    "# Muestra\n",
    "x_muestra2 = np.random.choice(x['data'].shape[0], size=1000, replace=False)\n",
    "\n",
    "# Imágenes\n",
    "x_im2 = x['data'][x_muestra2]\n",
    "\n",
    "# Etiquetas transformadas en escala RGBA\n",
    "x_lab2 = np.array([cm.tab10((float(z) / 9)) for z in x['target'][x_muestra2]]).reshape((1000,4))"
   ]
  },
  {
   "cell_type": "code",
   "execution_count": null,
   "metadata": {},
   "outputs": [],
   "source": [
    "# Problema 2.1 (PUNTUACIÓN: 1 punto): Transformar con PCA y dibujar \n",
    "x_pca2 = PCA(n_components=2).fit_transform(XXX) # TODO: reemplazar XXX\n",
    "plt.scatter(AAA, BBB, c=CCC) # TODO: Reemplazar AAA, BBB y CCC\n",
    "plt.show()"
   ]
  },
  {
   "cell_type": "code",
   "execution_count": null,
   "metadata": {},
   "outputs": [],
   "source": [
    "# Problema 2.2 (PUNTUACIÓN: 1 punto): Transformar con T-SNE y dibujar \n",
    "x_tsne2 = TSNE(n_components=2).fit_transform(FFF) # TODO: reemplazar FFF\n",
    "plt.scatter(x_tsne2[:,0], x_tsne2[:,1], c=x_lab2)\n",
    "plt.show()"
   ]
  }
 ],
 "metadata": {
  "kernelspec": {
   "display_name": "Python 3",
   "language": "python",
   "name": "python3"
  },
  "language_info": {
   "codemirror_mode": {
    "name": "ipython",
    "version": 3
   },
   "file_extension": ".py",
   "mimetype": "text/x-python",
   "name": "python",
   "nbconvert_exporter": "python",
   "pygments_lexer": "ipython3",
   "version": "3.6.12"
  }
 },
 "nbformat": 4,
 "nbformat_minor": 4
}
