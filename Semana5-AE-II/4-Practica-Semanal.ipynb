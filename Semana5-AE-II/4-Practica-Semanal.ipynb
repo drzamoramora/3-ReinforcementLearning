{
 "cells": [
  {
   "cell_type": "markdown",
   "metadata": {},
   "source": [
    "## Tarea Semanal \n",
    "\n",
    "Es su turno para generar imágenes nuevas a partir de codings! Vamos a continuar con el dataset de la semana pasada de Anime, para construir un Variational AE capaz de generar nuevas imágenes.\n",
    "En esta entrega debe:\n",
    "\n",
    "- Contruir un modelo variacional profundo (5pts)\n",
    "- Generar Nuevas imágenes a partir de codings (5pts)\n",
    "- Generar Nuevas imágenes y utilizar la interpolación semántica para ver si se generan nuevos personajes (3pts)\n",
    "\n",
    "Utilice el notebook #10 como guía para su tarea.\n"
   ]
  }
 ],
 "metadata": {
  "kernelspec": {
   "display_name": "Python 3",
   "language": "python",
   "name": "python3"
  },
  "language_info": {
   "codemirror_mode": {
    "name": "ipython",
    "version": 3
   },
   "file_extension": ".py",
   "mimetype": "text/x-python",
   "name": "python",
   "nbconvert_exporter": "python",
   "pygments_lexer": "ipython3",
   "version": "3.6.12"
  }
 },
 "nbformat": 4,
 "nbformat_minor": 4
}
