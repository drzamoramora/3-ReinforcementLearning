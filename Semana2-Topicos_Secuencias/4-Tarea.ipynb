{
 "cells": [
  {
   "cell_type": "markdown",
   "metadata": {},
   "source": [
    "# Tarea - Semanal\n",
    "\n",
    "## Dataset: Correos de Enron\n",
    "\n",
    "Enron fue una empresa petrolera norteamericana que quebró estrepitosamente en el año 2001 luego de haber hecho lo que fue hasta su momento el fraude contable más grande de la historia. Como parte de la investigación criminal, se analizaron cientos de miles de mensajes de los servidores de correo electrónico de la compañía. \n",
    "\n",
    "El dataset está disponible para el público desde hace varios años. Aquí tenemos una muestra preprocesada con aproximadamente 10,000 mensajes de correo electrónico listos para ser analizados. "
   ]
  },
  {
   "cell_type": "code",
   "execution_count": null,
   "metadata": {},
   "outputs": [],
   "source": [
    "# Importamos bibliotecas necesarias para la tarea\n",
    "from sklearn.feature_extraction.text import CountVectorizer\n",
    "from sklearn.decomposition import LatentDirichletAllocation\n",
    "from hmmlearn import hmm\n",
    "from sklearn.preprocessing import LabelEncoder\n",
    "import numpy as np\n",
    "\n",
    "# Leemos el dataset\n",
    "enron_file = open('resources/enron.csv', 'r') \n",
    "enron = enron_file.readlines()\n",
    "enron = [ l.rstrip() for l in enron ]"
   ]
  },
  {
   "cell_type": "code",
   "execution_count": null,
   "metadata": {},
   "outputs": [],
   "source": [
    "### EJERCICIO 1 (1 punto)\n",
    "### - CONSTRUIR UN VECTORIZADOR DE CONTEOS QUE ELIMINE STOP-WORDS EN INGLÉS PARA EL DATASET enron\n",
    "### - UTILIZARLO PARA TRANSFORMAR EL DATASET EN UNA MATRIZ DOCUMENTO-PALABA\n",
    "\n",
    "cv = ### TODO: Crear el count vectorizer y el fit.\n",
    "enron_matrix = cv.transform(enron)"
   ]
  },
  {
   "cell_type": "code",
   "execution_count": null,
   "metadata": {},
   "outputs": [],
   "source": [
    "### EJERCICIO 2 (4 puntos)\n",
    "### - ENTRENAR UN MODELO DE ASIGNACION LATENTE DE DIRICHLET SOBRE enron_matrix.\n",
    "### - MOSTRAR LOS TÓPICOS RESULTANTES (las 30 palabras más relevantes por tópico)\n",
    "### - PROBAR CON DISTINTOS NÚMEROS DE TÓPICOS, REPORTAR SUS RESULTADOS. \n",
    "\n",
    "lda = ### TODO: Crear el LDA, escoger los estados ocultos y realizar el fit\n",
    "\n",
    "comp = lda.components_\n",
    "vec = np.array(cv.get_feature_names())\n",
    "for i in range(0, comp.shape[0]):\n",
    "    print('*** TOPICO ', i)\n",
    "    print(vec[comp[i].argsort()[-30:][::-1]])\n",
    "    print('\\n')\n",
    "\n",
    "### EJERCICIO 2.1 (2 puntos)\n",
    "### Despliegue las distribuciones de los topicos\n",
    "### TODO: Desplegar los conteos de las distribuciones (ver notebook #2)\n",
    "\n"
   ]
  },
  {
   "cell_type": "code",
   "execution_count": null,
   "metadata": {},
   "outputs": [],
   "source": [
    "### EJERCICIO 3 (1 punto)\n",
    "### - CONSTRUIR UN LabelEncoder CON LOS DATOS DE enron Y TRANSFORMAR LOS DATOS\n",
    "###   EL LabelEncoder DEBE SEPARAR LOS MENSAJES PALABRA POR PALABRA\n",
    "### - TRANSFORMAR EN DATASETS CODIFICADOS\n",
    "### - CREAR EL VECTOR DE LONGITUD DE MENSAJES\n",
    "###\n",
    "### *** IMPORTANTE: DADO EL TIEMPO EXCESIVO QUE TOMA ENTRENAR ESTE MODELO, \n",
    "###     SE RECOMIENDA TRABAJAR CON UNA MUESTRA REDUCIDA (p.ej. LOS PRIMEROS X MENSAJES)\n",
    "\n",
    "enron_chars = [ mail.lower().split(' ') for mail in enron[-200:] ]\n",
    "\n",
    "chars_len = ### TODO: crear arreglo de longitudes de los enron_chars\n",
    "\n",
    "cv_chars = ### TODO: realizar el LabelEncoder fir de enron_chars (Pista buscar enc en Notebook #3)\n",
    "\n",
    "chars_enc = np.concatenate([cv_chars.transform(y).reshape(-1, 1) for y in enron_chars]).astype(np.int64)"
   ]
  },
  {
   "cell_type": "code",
   "execution_count": null,
   "metadata": {},
   "outputs": [],
   "source": [
    "### EJERCICIO 4 (4 puntos)\n",
    "### - ENTRENAR UN MODELO OCULTO DE MARKOV (HMM) SOBRE chars_enc Y chars_len\n",
    "### - GENERAR DIEZ SECUENCIAS ALEATORIAS DE DISTINTAS LONGITUDES\n",
    "### - PROBAR CON DISTINTOS NÚMEROS DE COMPONENTES, REPORTAR SUS RESULTADOS. \n",
    "\n",
    "enron_model = ### TODO: hacer fit de hmm.MultinomialHMM."
   ]
  },
  {
   "cell_type": "code",
   "execution_count": null,
   "metadata": {},
   "outputs": [],
   "source": [
    "# Generar Cadenas aleatorias...\n",
    "print(' '.join(cv_chars.inverse_transform(enron_model.sample(10)[0])))"
   ]
  },
  {
   "cell_type": "markdown",
   "metadata": {},
   "source": [
    "### Tarea Extra (no cuenta como entregable semanal):\n",
    "\n",
    "En esta tarea ud va replicar este notebook pero con un texto mas largo y va a buscar entrenar el modelo con HMM para generar frases aleatorias.\n",
    "\n",
    "Para este ejercicio va a a tratar de entrenar el modelo usando el libro de Dracula. https://www.gutenberg.org/files/345/345-0.txt (puede utilizar otros libros de us gusto, mas textos en https://www.gutenberg.org)\n",
    "\n",
    "Este ejercicio requiere que ud realice un limapiado del texto primero para resultados optimos.\n",
    "\n",
    "\n",
    "<img src=\"https://e7.pngegg.com/pngimages/518/88/png-clipart-dracula-from-sesame-street-count-von-count-elmo-sesame-street-characters-count-dracula-vampire-sesame-miscellaneous-purple-thumbnail.png\" />\n"
   ]
  },
  {
   "cell_type": "code",
   "execution_count": null,
   "metadata": {},
   "outputs": [],
   "source": []
  }
 ],
 "metadata": {
  "kernelspec": {
   "display_name": "Python 3",
   "language": "python",
   "name": "python3"
  },
  "language_info": {
   "codemirror_mode": {
    "name": "ipython",
    "version": 3
   },
   "file_extension": ".py",
   "mimetype": "text/x-python",
   "name": "python",
   "nbconvert_exporter": "python",
   "pygments_lexer": "ipython3",
   "version": "3.6.12"
  }
 },
 "nbformat": 4,
 "nbformat_minor": 4
}
