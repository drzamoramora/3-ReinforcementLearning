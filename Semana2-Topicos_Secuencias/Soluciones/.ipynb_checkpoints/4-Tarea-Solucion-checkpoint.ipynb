{
 "cells": [
  {
   "cell_type": "markdown",
   "metadata": {},
   "source": [
    "# Tarea - Semanal\n",
    "\n",
    "## Dataset: Correos de Enron\n",
    "\n",
    "Enron fue una empresa petrolera norteamericana que quebró estrepitosamente en el año 2001 luego de haber hecho lo que fue hasta su momento el fraude contable más grande de la historia. Como parte de la investigación criminal, se analizaron cientos de miles de mensajes de los servidores de correo electrónico de la compañía. \n",
    "\n",
    "El dataset está disponible para el público desde hace varios años. Aquí tenemos una muestra preprocesada con aproximadamente 10,000 mensajes de correo electrónico listos para ser analizados. "
   ]
  },
  {
   "cell_type": "code",
   "execution_count": 1,
   "metadata": {},
   "outputs": [],
   "source": [
    "# Importamos bibliotecas necesarias para la tarea\n",
    "from sklearn.feature_extraction.text import CountVectorizer\n",
    "from sklearn.decomposition import LatentDirichletAllocation\n",
    "from hmmlearn import hmm\n",
    "from sklearn.preprocessing import LabelEncoder\n",
    "import numpy as np\n",
    "\n",
    "# Leemos el dataset\n",
    "enron_file = open('resources/enron.csv', 'r') \n",
    "enron = enron_file.readlines()\n",
    "enron = [ l.rstrip() for l in enron ]"
   ]
  },
  {
   "cell_type": "code",
   "execution_count": 2,
   "metadata": {},
   "outputs": [],
   "source": [
    "### EJERCICIO 1 (1 punto)\n",
    "### - CONSTRUIR UN VECTORIZADOR DE CONTEOS QUE ELIMINE STOP-WORDS EN INGLÉS PARA EL DATASET enron\n",
    "### - UTILIZARLO PARA TRANSFORMAR EL DATASET EN UNA MATRIZ DOCUMENTO-PALABA\n",
    "cv = CountVectorizer(stop_words='english', token_pattern=r\"(?u)\\b[a-zA-Z][a-zA-Z][a-zA-Z]+\\b\").fit(enron)\n",
    "enron_matrix = cv.transform(enron)"
   ]
  },
  {
   "cell_type": "code",
   "execution_count": 3,
   "metadata": {},
   "outputs": [
    {
     "name": "stdout",
     "output_type": "stream",
     "text": [
      "iteration: 1 of max_iter: 10\n",
      "iteration: 2 of max_iter: 10\n",
      "iteration: 3 of max_iter: 10\n",
      "iteration: 4 of max_iter: 10\n",
      "iteration: 5 of max_iter: 10\n",
      "iteration: 6 of max_iter: 10\n",
      "iteration: 7 of max_iter: 10\n",
      "iteration: 8 of max_iter: 10\n",
      "iteration: 9 of max_iter: 10\n",
      "iteration: 10 of max_iter: 10\n",
      "*** TOPICO  0\n",
      "['phillip' 'mail' 'thanks' 'enron' 'message' 'need' 'subject' 'email'\n",
      " 'sent' 'information' 'know' 'meeting' 'thank' 'original' 'let'\n",
      " 'questions' 'like' 'time' 'send' 'attached' 'john' 'november' 'office'\n",
      " 'contact' 'file' 'help' 'services' 'new' 'friday' 'phone']\n",
      "\n",
      "\n",
      "*** TOPICO  1\n",
      "['enron' 'said' 'market' 'power' 'energy' 'company' 'new' 'business' 'iso'\n",
      " 'gas' 'time' 'year' 'project' 'state' 'million' 'price' 'california'\n",
      " 'trading' 'markets' 'service' 'houston' 'enrons' 'credit' 'week' 'jones'\n",
      " 'financial' 'prices' 'dow' 'information' 'electricity']\n",
      "\n",
      "\n",
      "*** TOPICO  2\n",
      "['eric' 'subject' 'know' 'basshouectect' 'let' 'image' 'game' 'going'\n",
      " 'just' 'enron' 'think' 'texas' 'bass' 'dont' 'want' 'like' 'north' 'time'\n",
      " 'america' 'bryan' 'tonight' 'brown' 'shanna' 'corp' 'night' 'make' 'need'\n",
      " 'good' 'bowl' 'team']\n",
      "\n",
      "\n",
      "*** TOPICO  3\n",
      "['john' 'subject' 'message' 'sent' 'original' 'arnold' 'gas'\n",
      " 'arnoldhouectect' 'buy' 'image' 'thanks' 'october' 'jennifer' 'market'\n",
      " 'monday' 'enron' 'day' 'think' 'just' 'trading' 'price' 'fraser' 'time'\n",
      " 'trade' 'like' 'tuesday' 'today' 'margaret' 'eol' 'spread']\n",
      "\n",
      "\n",
      "*** TOPICO  4\n",
      "['week' 'play' 'sore' 'start' 'like' 'game' 'expected' 'sunday' 'hes'\n",
      " 'good' 'team' 'new' 'time' 'players' 'questionable' 'saturday' 'wine'\n",
      " 'looks' 'practice' 'look' 'moving' 'likely' 'news' 'just' 'johnson'\n",
      " 'year' 'knee' 'yards' 'injury' 'make']\n",
      "\n",
      "\n"
     ]
    }
   ],
   "source": [
    "### EJERCICIO 2 (4 puntos)\n",
    "### - ENTRENAR UN MODELO DE ASIGNACION LATENTE DE DIRICHLET SOBRE enron_matrix.\n",
    "### - MOSTRAR LOS TÓPICOS RESULTANTES (las 30 palabras más relevantes por tópico)\n",
    "### - PROBAR CON DISTINTOS NÚMEROS DE TÓPICOS, REPORTAR SUS RESULTADOS. \n",
    "lda = LatentDirichletAllocation(n_components=5, verbose=True).fit(enron_matrix)\n",
    "\n",
    "comp = lda.components_\n",
    "vec = np.array(cv.get_feature_names())\n",
    "for i in range(0, comp.shape[0]):\n",
    "    print('*** TOPICO ', i)\n",
    "    print(vec[comp[i].argsort()[-30:][::-1]])\n",
    "    print('\\n')\n",
    "\n",
    "### EJERCICIO 2.1\n",
    "### Despliegue las distribuciones de los topicos"
   ]
  },
  {
   "cell_type": "code",
   "execution_count": 4,
   "metadata": {},
   "outputs": [],
   "source": [
    "### EJERCICIO 3 (1 punto)\n",
    "### - CONSTRUIR UN LabelEncoder CON LOS DATOS DE enron Y TRANSFORMAR LOS DATOS\n",
    "###   EL LabelEncoder DEBE SEPARAR LOS MENSAJES PALABRA POR PALABRA\n",
    "### - TRANSFORMAR EN DATASETS CODIFICADOS\n",
    "### - CREAR EL VECTOR DE LONGITUD DE MENSAJES\n",
    "###\n",
    "### *** IMPORTANTE: DADO EL TIEMPO EXCESIVO QUE TOMA ENTRENAR ESTE MODELO, \n",
    "###     SE RECOMIENDA TRABAJAR CON UNA MUESTRA REDUCIDA (p.ej. LOS PRIMEROS 100 MENSAJES)\n",
    "\n",
    "\n",
    "enron_chars = [ mail.lower().split(' ') for mail in enron[-200:] ]\n",
    "chars_len = [ len(chars) for chars in enron_chars ]\n",
    "cv_chars = LabelEncoder().fit([y for l in enron_chars for y in l])\n",
    "chars_enc = np.concatenate([cv_chars.transform(y).reshape(-1, 1) for y in enron_chars]).astype(np.int64)"
   ]
  },
  {
   "cell_type": "code",
   "execution_count": 5,
   "metadata": {},
   "outputs": [
    {
     "name": "stderr",
     "output_type": "stream",
     "text": [
      "Fitting a model with 82989 free scalar parameters with only 61870 data points will result in a degenerate solution.\n",
      "         1     -560455.0216             +nan\n",
      "         2     -441040.2112     +119414.8104\n",
      "         3     -441036.7338          +3.4774\n",
      "         4     -441031.4264          +5.3074\n",
      "         5     -441022.8372          +8.5892\n",
      "         6     -441008.8687         +13.9684\n",
      "         7     -440985.9942         +22.8745\n",
      "         8     -440950.8983         +35.0959\n",
      "         9     -440907.7294         +43.1690\n",
      "        10     -440866.4145         +41.3148\n",
      "        11     -440830.2537         +36.1608\n",
      "        12     -440796.8825         +33.3712\n",
      "        13     -440764.4457         +32.4368\n",
      "        14     -440731.5825         +32.8632\n",
      "        15     -440696.6848         +34.8977\n",
      "        16     -440657.8277         +38.8572\n",
      "        17     -440612.0358         +45.7918\n",
      "        18     -440554.9513         +57.0845\n",
      "        19     -440480.2688         +74.6825\n",
      "        20     -440378.2489        +102.0199\n",
      "        21     -440232.7049        +145.5441\n",
      "        22     -440014.8356        +217.8693\n",
      "        23     -439670.9856        +343.8500\n",
      "        24     -439106.1756        +564.8100\n",
      "        25     -438183.7375        +922.4380\n",
      "        26     -436736.1631       +1447.5744\n",
      "        27     -434569.8137       +2166.3494\n",
      "        28     -431644.9680       +2924.8457\n",
      "        29     -428196.6921       +3448.2758\n",
      "        30     -424482.5576       +3714.1345\n",
      "        31     -420796.0773       +3686.4803\n",
      "        32     -417454.0141       +3342.0632\n",
      "        33     -414538.1220       +2915.8922\n",
      "        34     -412029.3579       +2508.7640\n",
      "        35     -409892.2414       +2137.1165\n",
      "        36     -408099.5923       +1792.6491\n",
      "        37     -406633.5335       +1466.0589\n",
      "        38     -405442.8143       +1190.7191\n",
      "        39     -404467.4338        +975.3806\n",
      "        40     -403647.5405        +819.8933\n",
      "        41     -402964.4042        +683.1363\n",
      "        42     -402379.8379        +584.5663\n",
      "        43     -401894.0325        +485.8053\n",
      "        44     -401487.3753        +406.6573\n",
      "        45     -401130.9622        +356.4131\n",
      "        46     -400805.3280        +325.6341\n",
      "        47     -400520.8837        +284.4443\n",
      "        48     -400279.1144        +241.7693\n",
      "        49     -400069.2781        +209.8364\n",
      "        50     -399860.0936        +209.1845\n",
      "        51     -399659.0504        +201.0432\n",
      "        52     -399485.8317        +173.2186\n",
      "        53     -399330.4287        +155.4031\n",
      "        54     -399183.1408        +147.2879\n",
      "        55     -399036.2335        +146.9073\n",
      "        56     -398901.1853        +135.0482\n",
      "        57     -398766.3338        +134.8515\n",
      "        58     -398631.0173        +135.3164\n",
      "        59     -398499.5826        +131.4347\n",
      "        60     -398385.5639        +114.0188\n",
      "        61     -398287.0425         +98.5214\n",
      "        62     -398198.9171         +88.1253\n",
      "        63     -398109.4633         +89.4538\n",
      "        64     -398018.9955         +90.4678\n",
      "        65     -397933.7055         +85.2900\n",
      "        66     -397860.8063         +72.8992\n",
      "        67     -397802.9757         +57.8305\n",
      "        68     -397758.5217         +44.4540\n",
      "        69     -397704.7002         +53.8215\n",
      "        70     -397648.8873         +55.8130\n",
      "        71     -397599.7367         +49.1506\n",
      "        72     -397558.2331         +41.5035\n",
      "        73     -397514.9333         +43.2998\n",
      "        74     -397462.6790         +52.2543\n",
      "        75     -397403.6500         +59.0290\n",
      "        76     -397354.6186         +49.0314\n",
      "        77     -397309.3082         +45.3104\n",
      "        78     -397251.9202         +57.3880\n",
      "        79     -397187.6831         +64.2371\n",
      "        80     -397126.1023         +61.5808\n",
      "        81     -397057.6535         +68.4487\n",
      "        82     -396998.1078         +59.5457\n",
      "        83     -396941.1412         +56.9667\n",
      "        84     -396894.1263         +47.0148\n",
      "        85     -396856.3750         +37.7513\n",
      "        86     -396826.6174         +29.7576\n",
      "        87     -396802.0496         +24.5679\n",
      "        88     -396779.1626         +22.8870\n",
      "        89     -396754.9564         +24.2062\n",
      "        90     -396730.2602         +24.6962\n",
      "        91     -396709.0902         +21.1700\n",
      "        92     -396687.2247         +21.8655\n",
      "        93     -396663.6393         +23.5854\n",
      "        94     -396637.2324         +26.4070\n",
      "        95     -396613.1087         +24.1236\n",
      "        96     -396579.7209         +33.3878\n",
      "        97     -396534.2690         +45.4520\n",
      "        98     -396509.9484         +24.3206\n",
      "        99     -396487.0233         +22.9251\n",
      "       100     -396465.4172         +21.6060\n"
     ]
    }
   ],
   "source": [
    "### EJERCICIO 4 (4 puntos)\n",
    "### - ENTRENAR UN MODELO OCULTO DE MARKOV (HMM) SOBRE chars_enc Y chars_len\n",
    "### - GENERAR DIEZ SECUENCIAS ALEATORIAS DE DISTINTAS LONGITUDES\n",
    "### - PROBAR CON DISTINTOS NÚMEROS DE COMPONENTES, REPORTAR SUS RESULTADOS. \n",
    "\n",
    "enron_model = hmm.MultinomialHMM(n_iter=100, n_components=10, verbose=True).fit(chars_enc, chars_len)"
   ]
  },
  {
   "cell_type": "code",
   "execution_count": 6,
   "metadata": {},
   "outputs": [
    {
     "name": "stdout",
     "output_type": "stream",
     "text": [
      "order you a the time then politics would that enron01s\n"
     ]
    },
    {
     "name": "stderr",
     "output_type": "stream",
     "text": [
      "C:\\Users\\XPC\\anaconda3\\envs\\TF23-RL\\lib\\site-packages\\sklearn\\utils\\validation.py:72: DataConversionWarning: A column-vector y was passed when a 1d array was expected. Please change the shape of y to (n_samples, ), for example using ravel().\n",
      "  return f(**kwargs)\n"
     ]
    }
   ],
   "source": [
    "print(' '.join(cv_chars.inverse_transform(enron_model.sample(10)[0])))\n"
   ]
  },
  {
   "cell_type": "code",
   "execution_count": null,
   "metadata": {},
   "outputs": [],
   "source": []
  }
 ],
 "metadata": {
  "kernelspec": {
   "display_name": "Python 3",
   "language": "python",
   "name": "python3"
  },
  "language_info": {
   "codemirror_mode": {
    "name": "ipython",
    "version": 3
   },
   "file_extension": ".py",
   "mimetype": "text/x-python",
   "name": "python",
   "nbconvert_exporter": "python",
   "pygments_lexer": "ipython3",
   "version": "3.6.12"
  }
 },
 "nbformat": 4,
 "nbformat_minor": 4
}
