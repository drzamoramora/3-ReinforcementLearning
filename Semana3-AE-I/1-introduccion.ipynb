{
 "cells": [
  {
   "cell_type": "markdown",
   "metadata": {},
   "source": [
    "## Bienvenidos\n",
    "\n",
    "Esta semana continuamos con el siguiente nivel de modelo generativos: los auto-codificadors o “autoencoders o AE”. Les llamaremos autoencoders ya que así se encuentran más fácilmente en la literatura.\n",
    "\n",
    "## ¿Que es un AE?\n",
    "\n",
    "Un AE es un tipo de red neuronal artificial que se utiliza para aprender codificaciones de datos sin supervisión. El objetivo de un codificador automático es aprender una representación (codificación) de un conjunto de datos, normalmente para la reducción de dimensionalidad, entrenando a la red para que ignore el \"ruido\" de la señal. Junto con el lado de reducción, se aprende un lado de reconstrucción, donde el AE intenta generar a partir de la codificación reducida una representación lo más cercana posible a su entrada original, de ahí su nombre.\n",
    "\n",
    "Como se ha mencionado, los AE no son necesariamente métodos generativos, sino de compresión. Esto quiere decir que podemos hacer cosas como reducir una imagen de 1024x728 pixeles en una representación de dos variables tipo (12,756). Al ser posible “comprimir” todos esos pixeles en algo representado por ese conjunto, también podemos reconstruir la imagen, sin embargo, debido al componente aleatorio de las NN, la imagen generada va a ser diferente. Esta es la propiedad generativa.\n",
    "\n",
    "En el caso de imágenes, la imagen generada también tiene algún ruido por lo que el producto resultante no tiende a ser de alta calidad. Avances recientes en esta área de métodos generativos han llevado a la fabricación de métodos muchos mas capaces como las redes generativas adversarias (GANs) las cuales si poseen las capacidades de generar contenido foto-realista.\n",
    "Por ahora, comprenderemos los AE los cuales nos preparan para comprender las GANs.\n",
    "\n",
    "<img src=\"img/ae1.png\" />\n",
    "\n",
    "## Tipos comunes de AE\n",
    "\n",
    "**Esta semana nos concentraremos en 2 tipos de AE:**\n",
    "- AE Lineares (PCA)\n",
    "- AE Basados en Pilas (Stacks)\n",
    "\n",
    "**La próxima semana estaremos viendo 2 tipos de AE más capaces:**\n",
    "- AE convolucionales, RNN,\n",
    "- AE Variacionales\n"
   ]
  }
 ],
 "metadata": {
  "kernelspec": {
   "display_name": "Python 3",
   "language": "python",
   "name": "python3"
  },
  "language_info": {
   "codemirror_mode": {
    "name": "ipython",
    "version": 3
   },
   "file_extension": ".py",
   "mimetype": "text/x-python",
   "name": "python",
   "nbconvert_exporter": "python",
   "pygments_lexer": "ipython3",
   "version": "3.6.12"
  }
 },
 "nbformat": 4,
 "nbformat_minor": 4
}
