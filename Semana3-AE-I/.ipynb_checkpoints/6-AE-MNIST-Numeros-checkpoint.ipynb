{
 "cells": [
  {
   "cell_type": "markdown",
   "metadata": {
    "colab_type": "text",
    "id": "7cPGbRozFMBL"
   },
   "source": [
    "### Cargar datos de MNIST"
   ]
  },
  {
   "cell_type": "code",
   "execution_count": null,
   "metadata": {
    "colab": {
     "base_uri": "https://localhost:8080/",
     "height": 35
    },
    "colab_type": "code",
    "executionInfo": {
     "elapsed": 2405,
     "status": "ok",
     "timestamp": 1595306807064,
     "user": {
      "displayName": "Juan Zamora",
      "photoUrl": "",
      "userId": "02952925860206395029"
     },
     "user_tz": 360
    },
    "id": "BgiasuYPFMBU",
    "outputId": "649ad7f9-8fe8-42ad-f299-5088729877bd"
   },
   "outputs": [],
   "source": [
    "from keras.datasets import mnist\n",
    "\n",
    "(x_train, y_train), (x_test, y_test) = mnist.load_data()\n",
    "\n",
    "x_train = x_train.astype('float32') / 255.\n",
    "x_train = x_train.reshape(x_train.shape + (1,))\n",
    "\n",
    "x_test = x_test.astype('float32') / 255.\n",
    "x_test = x_test.reshape(x_test.shape + (1,))"
   ]
  },
  {
   "cell_type": "code",
   "execution_count": null,
   "metadata": {
    "colab": {
     "base_uri": "https://localhost:8080/",
     "height": 92
    },
    "colab_type": "code",
    "executionInfo": {
     "elapsed": 2682,
     "status": "ok",
     "timestamp": 1595306807402,
     "user": {
      "displayName": "Juan Zamora",
      "photoUrl": "",
      "userId": "02952925860206395029"
     },
     "user_tz": 360
    },
    "id": "1iW2-KkcYeAR",
    "outputId": "afa46f34-8830-4767-f595-bb543f62e0d2"
   },
   "outputs": [],
   "source": [
    "import matplotlib.pyplot as plt\n",
    "import numpy as np\n",
    "\n",
    "# imprimimos 10 numeros aleatorios de MNIST\n",
    "n_to_show = 10\n",
    "example_idx = np.random.choice(range(len(x_test)), n_to_show)\n",
    "example_images = x_test[example_idx]\n",
    "\n",
    "fig = plt.figure(figsize=(15, 3))\n",
    "fig.subplots_adjust(hspace=0.4, wspace=0.4)\n",
    "\n",
    "for i in range(n_to_show):\n",
    "    img = example_images[i].squeeze()\n",
    "    ax = fig.add_subplot(2, n_to_show, i+1)\n",
    "    ax.axis('off')  \n",
    "    ax.imshow(img, cmap='gray_r')"
   ]
  },
  {
   "cell_type": "markdown",
   "metadata": {},
   "source": [
    "<img src=\"https://www.researchgate.net/profile/Xifeng_Guo/publication/320658590/figure/fig1/AS:614154637418504@1523437284408/The-structure-of-proposed-Convolutional-AutoEncoders-CAE-for-MNIST-In-the-middle-there.png\" />\n",
    "\n",
    "imagen de ejemplo tomada de <a href=\"https://www.researchgate.net/publication/320658590_Deep_Clustering_with_Convolutional_Autoencoders\">Guo, et al (2017)</a>"
   ]
  },
  {
   "cell_type": "markdown",
   "metadata": {
    "colab_type": "text",
    "id": "8X5g36XzFMBi"
   },
   "source": [
    "### Encoder"
   ]
  },
  {
   "cell_type": "code",
   "execution_count": null,
   "metadata": {
    "colab": {},
    "colab_type": "code",
    "executionInfo": {
     "elapsed": 2647,
     "status": "ok",
     "timestamp": 1595306807404,
     "user": {
      "displayName": "Juan Zamora",
      "photoUrl": "",
      "userId": "02952925860206395029"
     },
     "user_tz": 360
    },
    "id": "nLf9ddhcFMBk"
   },
   "outputs": [],
   "source": [
    "from keras.layers import Input, Conv2D, Flatten, Dense, Conv2DTranspose, Reshape, Lambda, Activation, BatchNormalization, LeakyReLU, Dropout\n",
    "from keras.models import Model\n",
    "from keras import backend as K\n",
    "from keras.optimizers import Adam\n",
    "from keras.callbacks import ModelCheckpoint\n",
    "import numpy as np"
   ]
  },
  {
   "cell_type": "markdown",
   "metadata": {},
   "source": [
    "- filter: numero de filtros de salida en la convolucion.\n",
    "- kernel_size: tamano de la ventana a utilizar (3x3)\n",
    "- strides: tamano del paso de la ventana (kernel_size)\n",
    "- padding: con stride 1, el tamano de la salida es igual a la entrada de la capa."
   ]
  },
  {
   "cell_type": "code",
   "execution_count": null,
   "metadata": {
    "colab": {
     "base_uri": "https://localhost:8080/",
     "height": 845
    },
    "colab_type": "code",
    "executionInfo": {
     "elapsed": 3168,
     "status": "ok",
     "timestamp": 1595306807943,
     "user": {
      "displayName": "Juan Zamora",
      "photoUrl": "",
      "userId": "02952925860206395029"
     },
     "user_tz": 360
    },
    "id": "SomD9AMzFMBv",
    "outputId": "9dbba407-6c31-4cc8-f148-a082aa66ef0c"
   },
   "outputs": [],
   "source": [
    "# capa de entrada\n",
    "encoder_input = Input(shape=(28,28,1), name='encoder_input')\n",
    "x = encoder_input\n",
    "\n",
    "# capas convolucionales\n",
    "# ============= 1 =================\n",
    "conv_layer = Conv2D(filters = 32 ,kernel_size = 3 , strides = 1, padding = 'same',\n",
    "                    name = 'encoder_conv_1')\n",
    "x = conv_layer(x)\n",
    "x = LeakyReLU()(x)\n",
    "x = BatchNormalization()(x)\n",
    "x = Dropout(rate = 0.25)(x)\n",
    "\n",
    "# ============= 2 =================\n",
    "conv_layer = Conv2D(filters = 64 ,kernel_size = 3 , strides = 2, padding = 'same',\n",
    "                    name = 'encoder_conv_2')\n",
    "x = conv_layer(x)\n",
    "x = LeakyReLU()(x)\n",
    "x = BatchNormalization()(x)\n",
    "x = Dropout(rate = 0.25)(x)\n",
    "\n",
    "# ============= 3 =================\n",
    "conv_layer = Conv2D(filters = 64 ,kernel_size = 3 , strides = 2, padding = 'same',\n",
    "                    name = 'encoder_conv_3')\n",
    "x = conv_layer(x)\n",
    "x = LeakyReLU()(x)\n",
    "x = BatchNormalization()(x)\n",
    "x = Dropout(rate = 0.25)(x)\n",
    "\n",
    "# ============= 4 =================\n",
    "conv_layer = Conv2D(filters = 64 ,kernel_size = 3 , strides = 1, padding = 'same',\n",
    "                    name = 'encoder_conv_4')\n",
    "x = conv_layer(x)\n",
    "x = LeakyReLU()(x)\n",
    "x = BatchNormalization()(x)\n",
    "x = Dropout(rate = 0.25)(x)\n",
    "\n",
    "# Forma Convs\n",
    "shape_before_flattening = K.int_shape(x)[1:]\n",
    "\n",
    "# red neuronal (Flattening)\n",
    "x = Flatten()(x)\n",
    "encoder_output= Dense(2, name='encoder_output')(x)\n",
    "\n",
    "# Modelo del ENCODER\n",
    "ENCODER = Model(encoder_input, encoder_output)\n",
    "\n",
    "ENCODER.summary()"
   ]
  },
  {
   "cell_type": "markdown",
   "metadata": {
    "colab_type": "text",
    "id": "y9xq0y_qFMCF"
   },
   "source": [
    "### Decoder"
   ]
  },
  {
   "cell_type": "code",
   "execution_count": null,
   "metadata": {
    "colab": {
     "base_uri": "https://localhost:8080/",
     "height": 773
    },
    "colab_type": "code",
    "executionInfo": {
     "elapsed": 3355,
     "status": "ok",
     "timestamp": 1595306808168,
     "user": {
      "displayName": "Juan Zamora",
      "photoUrl": "",
      "userId": "02952925860206395029"
     },
     "user_tz": 360
    },
    "id": "oSc2mArGFMCO",
    "outputId": "83e7109e-83a8-4e52-8ad2-232d5be11bcb"
   },
   "outputs": [],
   "source": [
    "# la capa de entrada tiene las dimensiones de la capa de salida\n",
    "# del encoder_output (2)\n",
    "decoder_input = Input(shape=(2,), name='decoder_input')\n",
    "x = Dense(np.prod(shape_before_flattening))(decoder_input)\n",
    "x = Reshape(shape_before_flattening)(x)\n",
    "\n",
    "# capas convolucionales (vamos a la inversa)\n",
    "# la misma cosa que el encoder, pero al reves\n",
    "# ============= 4 =================\n",
    "conv_t_layer = Conv2DTranspose(filters = 64 ,kernel_size = 3 , strides = 1, padding = 'same',\n",
    "                    name = 'decoder_conv_4')\n",
    "x = conv_t_layer(x)\n",
    "x = LeakyReLU()(x)\n",
    "x = BatchNormalization()(x)\n",
    "x = Dropout(rate = 0.25)(x)\n",
    "\n",
    "# ============= 3 =================\n",
    "conv_t_layer = Conv2DTranspose(filters = 64 ,kernel_size = 3 , strides = 2, padding = 'same',\n",
    "                    name = 'decoder_conv_3')\n",
    "x = conv_t_layer(x)\n",
    "x = LeakyReLU()(x)\n",
    "x = BatchNormalization()(x)\n",
    "x = Dropout(rate = 0.25)(x)\n",
    "\n",
    "# ============= 2 =================\n",
    "conv_t_layer = Conv2DTranspose(filters = 32 ,kernel_size = 3 , strides = 2, padding = 'same',\n",
    "                    name = 'decoder_conv_2')\n",
    "x = conv_t_layer(x)\n",
    "x = LeakyReLU()(x)\n",
    "x = BatchNormalization()(x)\n",
    "x = Dropout(rate = 0.25)(x)\n",
    "\n",
    "# ============= 1 =================\n",
    "conv_t_layer = Conv2DTranspose(filters = 1 ,kernel_size = 3 , strides = 1, padding = 'same',\n",
    "                    name = 'decoder_conv_1')\n",
    "x = conv_t_layer(x)\n",
    "x = Activation('sigmoid')(x)\n",
    "\n",
    "# Salida\n",
    "decoder_output = x\n",
    "# Model del DECODER\n",
    "DECODER = Model(decoder_input, decoder_output)\n",
    "\n",
    "DECODER.summary()"
   ]
  },
  {
   "cell_type": "markdown",
   "metadata": {
    "colab_type": "text",
    "id": "muBg7WlJFMCW"
   },
   "source": [
    "### El AutoEncoder"
   ]
  },
  {
   "cell_type": "code",
   "execution_count": null,
   "metadata": {
    "colab": {},
    "colab_type": "code",
    "executionInfo": {
     "elapsed": 3323,
     "status": "ok",
     "timestamp": 1595306808169,
     "user": {
      "displayName": "Juan Zamora",
      "photoUrl": "",
      "userId": "02952925860206395029"
     },
     "user_tz": 360
    },
    "id": "8KUlJ0UAFMCW"
   },
   "outputs": [],
   "source": [
    "# union de encoder y decoder\n",
    "model_input = encoder_input\n",
    "model_output = DECODER(encoder_output)\n",
    "\n",
    "# modelo del autoencoder\n",
    "model = Model(model_input, model_output)"
   ]
  },
  {
   "cell_type": "markdown",
   "metadata": {
    "colab_type": "text",
    "id": "mfuyVqCeFMCr"
   },
   "source": [
    "### Compilar el Modelo"
   ]
  },
  {
   "cell_type": "code",
   "execution_count": null,
   "metadata": {
    "colab": {},
    "colab_type": "code",
    "executionInfo": {
     "elapsed": 3496,
     "status": "ok",
     "timestamp": 1595306808353,
     "user": {
      "displayName": "Juan Zamora",
      "photoUrl": "",
      "userId": "02952925860206395029"
     },
     "user_tz": 360
    },
    "id": "ClcHOgr1FMCr"
   },
   "outputs": [],
   "source": [
    "learning_rate = 0.0005\n",
    "batch_size = 32\n",
    "\n",
    "optimizer = Adam(lr=learning_rate)\n",
    "\n",
    "# RMSE\n",
    "def r_loss(y_true, y_pred):\n",
    "    return K.mean(K.square(y_true - y_pred), axis = [1,2,3])\n",
    "\n",
    "model.compile(optimizer=optimizer, loss = r_loss)"
   ]
  },
  {
   "cell_type": "markdown",
   "metadata": {
    "colab_type": "text",
    "id": "oEwq-gyjFMCv"
   },
   "source": [
    "### Iniciar Entrenamiento"
   ]
  },
  {
   "cell_type": "code",
   "execution_count": null,
   "metadata": {
    "colab": {
     "base_uri": "https://localhost:8080/",
     "height": 1000
    },
    "colab_type": "code",
    "executionInfo": {
     "elapsed": 91834,
     "status": "ok",
     "timestamp": 1595306896706,
     "user": {
      "displayName": "Juan Zamora",
      "photoUrl": "",
      "userId": "02952925860206395029"
     },
     "user_tz": 360
    },
    "id": "7TWnJQ0JFMCw",
    "outputId": "1a7bf91e-486b-4376-a67d-2cd48dd4ad99"
   },
   "outputs": [],
   "source": [
    "# ejecutar el entrenamiento\n",
    "model.fit(  x = x_train[:1000]\n",
    "            ,y = x_train[:1000]\n",
    "            , batch_size = batch_size\n",
    "            , shuffle = True\n",
    "            , epochs = 200\n",
    "            , initial_epoch = 0\n",
    "        )"
   ]
  },
  {
   "cell_type": "code",
   "execution_count": null,
   "metadata": {
    "colab": {
     "base_uri": "https://localhost:8080/",
     "height": 704
    },
    "colab_type": "code",
    "executionInfo": {
     "elapsed": 1402,
     "status": "ok",
     "timestamp": 1595307076045,
     "user": {
      "displayName": "Juan Zamora",
      "photoUrl": "",
      "userId": "02952925860206395029"
     },
     "user_tz": 360
    },
    "id": "H6lclUabUGlk",
    "outputId": "e992fb95-25a6-4214-d290-c5c3ade05693"
   },
   "outputs": [],
   "source": [
    "# desplegar 5000 imagenes DECODER(5000) -> x,y (z_points)\n",
    "\n",
    "n_to_show = 5000\n",
    "grid_size = 15\n",
    "figsize = 12\n",
    "\n",
    "example_idx = np.random.choice(range(len(x_test)), n_to_show)\n",
    "example_images = x_test[example_idx]\n",
    "example_labels = y_test[example_idx]\n",
    "\n",
    "z_points = ENCODER.predict(example_images)\n",
    "\n",
    "min_x = min(z_points[:, 0])\n",
    "max_x = max(z_points[:, 0])\n",
    "min_y = min(z_points[:, 1])\n",
    "max_y = max(z_points[:, 1])\n",
    "\n",
    "plt.figure(figsize=(figsize, figsize))\n",
    "plt.scatter(z_points[:, 0] , z_points[:, 1], c=example_labels, alpha=0.5, s=10)\n",
    "plt.colorbar()\n",
    "plt.show()"
   ]
  },
  {
   "cell_type": "code",
   "execution_count": null,
   "metadata": {
    "colab": {
     "base_uri": "https://localhost:8080/",
     "height": 143
    },
    "colab_type": "code",
    "executionInfo": {
     "elapsed": 427,
     "status": "ok",
     "timestamp": 1595307085225,
     "user": {
      "displayName": "Juan Zamora",
      "photoUrl": "",
      "userId": "02952925860206395029"
     },
     "user_tz": 360
    },
    "id": "yoqhpOS3FMC0",
    "outputId": "5e898c94-dddb-46ea-f4fc-1a50551a54b0"
   },
   "outputs": [],
   "source": [
    "n_to_show = 10\n",
    "\n",
    "# Seleccionar 10 imagenes aleatorias de x_test\n",
    "example_idx_10 = np.random.choice(range(len(x_test)), n_to_show)\n",
    "example_images_10 = x_test[example_idx_10]\n",
    "\n",
    "# Codifique \n",
    "z_points_10 = ENCODER.predict(example_images_10)\n",
    "\n",
    "# Decodifique\n",
    "reconst_images = DECODER.predict(z_points_10)\n",
    "\n",
    "print(z_points)"
   ]
  },
  {
   "cell_type": "code",
   "execution_count": null,
   "metadata": {
    "colab": {
     "base_uri": "https://localhost:8080/",
     "height": 704
    },
    "colab_type": "code",
    "executionInfo": {
     "elapsed": 1121,
     "status": "ok",
     "timestamp": 1595307088389,
     "user": {
      "displayName": "Juan Zamora",
      "photoUrl": "",
      "userId": "02952925860206395029"
     },
     "user_tz": 360
    },
    "id": "Ws-03ia9Vvnv",
    "outputId": "37a558a7-05bc-419f-dd06-245ac786bcb2"
   },
   "outputs": [],
   "source": [
    "plt.figure(figsize=(figsize, figsize))\n",
    "# visualiza 5000 puntos de x_test\n",
    "plt.scatter(z_points[:, 0] , z_points[:, 1], c=example_labels, alpha=0.5, s=10)\n",
    "plt.colorbar()\n",
    "# imprime puntos rojos (ENCODED)\n",
    "plt.scatter(z_points_10[:, 0] , z_points_10[:, 1], c = 'red', alpha=1, s=60)\n",
    "plt.show()"
   ]
  },
  {
   "cell_type": "code",
   "execution_count": null,
   "metadata": {
    "colab": {
     "base_uri": "https://localhost:8080/",
     "height": 188
    },
    "colab_type": "code",
    "executionInfo": {
     "elapsed": 1249,
     "status": "ok",
     "timestamp": 1595307188143,
     "user": {
      "displayName": "Juan Zamora",
      "photoUrl": "",
      "userId": "02952925860206395029"
     },
     "user_tz": 360
    },
    "id": "YVGeM6ulJtbc",
    "outputId": "15db9613-651b-4c6e-aa3b-25e82dbcb78c"
   },
   "outputs": [],
   "source": [
    "import matplotlib.pyplot as plt\n",
    "\n",
    "fig = plt.figure(figsize=(15, 3))\n",
    "fig.subplots_adjust(hspace=0.4, wspace=0.4)\n",
    "\n",
    "# Imagenes de Ejemplo\n",
    "for i in range(n_to_show):\n",
    "    img = example_images_10[i].squeeze()\n",
    "    ax = fig.add_subplot(2, n_to_show, i+1)\n",
    "    ax.axis('off')\n",
    "    ax.text(0.5, -0.35, str(np.round(z_points_10[i],1)), fontsize=10, ha='center', transform=ax.transAxes)   \n",
    "    ax.imshow(img, cmap='gray_r')\n",
    "\n",
    "# Imagenes Reconstruidas\n",
    "for i in range(n_to_show):\n",
    "    img = reconst_images[i].squeeze()\n",
    "    ax = fig.add_subplot(2, n_to_show, i+n_to_show+1)\n",
    "    ax.axis('off')\n",
    "    ax.imshow(img, cmap='gray_r')"
   ]
  },
  {
   "cell_type": "code",
   "execution_count": null,
   "metadata": {},
   "outputs": [],
   "source": []
  }
 ],
 "metadata": {
  "accelerator": "GPU",
  "colab": {
   "collapsed_sections": [],
   "name": "Ejemplo-Autoencoder.ipynb",
   "provenance": []
  },
  "kernelspec": {
   "display_name": "Python 3",
   "language": "python",
   "name": "python3"
  },
  "language_info": {
   "codemirror_mode": {
    "name": "ipython",
    "version": 3
   },
   "file_extension": ".py",
   "mimetype": "text/x-python",
   "name": "python",
   "nbconvert_exporter": "python",
   "pygments_lexer": "ipython3",
   "version": "3.6.12"
  }
 },
 "nbformat": 4,
 "nbformat_minor": 4
}
