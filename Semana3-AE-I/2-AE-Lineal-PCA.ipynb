{
 "cells": [
  {
   "cell_type": "markdown",
   "metadata": {},
   "source": [
    "### Encoder y Decoder\n",
    "\n",
    "¿Cual de estas secuencias es mas fácil de aprender?\n",
    "\n",
    "- c1 = [1,34,5,56,32,678,345,32,645,43]\n",
    "- c2 = [58,56,54,52,50,48,46,...,10,8,6,4,2,0]\n",
    "\n",
    "Por longitud, seria la primera, sin embargo, si podemos obtener el patrón que describe la segunda, entonces solo tendríamos que aprender la formula; el resto seria un proceso generativo. Esto es exactamente lo que tratan de hacer los AE.\n",
    "\n",
    "**Encoder:**\n",
    "- Evalúa la cadena c2 y obtiene el módelo latente (la formula y sus parámetros)\n",
    "\n",
    "**Decoder:**\n",
    "- Genera la lista a partir del modelo latente.\n",
    "\n",
    "Ahora, hay una distinción respecto al ejemplo anterior cuando trabajamos con AE, y es que vamos a usar redes neuronales para generar el modelo latente. Como uds ya saben, los modelo generados con NN están sujetos a error y a cierta aleatoriedad, por tanto el Decoder no va a generar exactamente lo mismo que viene de entrada, sino una reconstrucción aproximada, de lo que nos vamos a aprovechar para utilizarlo para generar “cosas distintas” pero similares."
   ]
  },
  {
   "cell_type": "markdown",
   "metadata": {},
   "source": [
    "### Mi Primer Autoencoder Neuronal\n",
    "\n",
    "Vamos a crear un AE que comprime un dataset 3D en 2D y luego lo vuelve a reestablecer en 3D. Este autoencoder hace algo similar a PCA, que podemos hacer reduccion de dimensionalidad con redes neuronales!"
   ]
  },
  {
   "cell_type": "markdown",
   "metadata": {},
   "source": [
    "#### Modelo AE"
   ]
  },
  {
   "cell_type": "code",
   "execution_count": null,
   "metadata": {},
   "outputs": [],
   "source": [
    "from tensorflow import keras\n",
    "\n",
    "# codificador, de 3D a 2D\n",
    "encoder = keras.models.Sequential([keras.layers.Dense(2, input_shape=[3])])\n",
    "\n",
    "# decodificador de 2D a 3D\n",
    "decoder = keras.models.Sequential([keras.layers.Dense(3, input_shape=[2])])\n",
    "\n",
    "# AE: pegamos las 2 redes neuronales de forma secuancial\n",
    "AE = keras.models.Sequential([encoder, decoder])\n",
    "\n",
    "# compilar el modelo\n",
    "AE.compile(loss=\"mse\", optimizer=keras.optimizers.SGD(lr=0.01))"
   ]
  },
  {
   "cell_type": "markdown",
   "metadata": {},
   "source": [
    "#### Generacion de Nuevo Dataset 3D"
   ]
  },
  {
   "cell_type": "code",
   "execution_count": null,
   "metadata": {},
   "outputs": [],
   "source": [
    "from mpl_toolkits import mplot3d\n",
    "%matplotlib inline\n",
    "import numpy as np\n",
    "import matplotlib.pyplot as plt\n",
    "\n",
    "import pandas as pd\n",
    "\n",
    "fig = plt.figure()\n",
    "ax = plt.axes(projection='3d')\n",
    "\n",
    "# generar la linea\n",
    "zline = np.linspace(0, 15, 1000)\n",
    "xline = np.sin(zline)\n",
    "yline = np.cos(zline)\n",
    "ax.plot3D(xline, yline, zline, 'gray')\n",
    "\n",
    "# generar datos del scatter\n",
    "zdata = 15 * np.random.random(100)\n",
    "xdata = np.sin(zdata) + 0.1 * np.random.randn(100)\n",
    "ydata = np.cos(zdata) + 0.1 * np.random.randn(100)\n",
    "ax.scatter3D(xdata, ydata, zdata, c=zdata, cmap='Greens');\n",
    "\n",
    "# creamos un df de pandas\n",
    "df = pd.DataFrame({'x':xdata, 'y':ydata, 'z':zdata})\n",
    "print(df)"
   ]
  },
  {
   "cell_type": "code",
   "execution_count": null,
   "metadata": {},
   "outputs": [],
   "source": [
    "hist = AE.fit(df.values,df.values, epochs=20)\n",
    "gen = AE.predict(df.values)"
   ]
  },
  {
   "cell_type": "code",
   "execution_count": null,
   "metadata": {},
   "outputs": [],
   "source": [
    "fig = plt.figure()\n",
    "ax = plt.axes(projection='3d')\n",
    "\n",
    "# generar datos del scatter\n",
    "zdata = gen[:,2]\n",
    "xdata = gen[:,0]\n",
    "ydata = gen[:,1]\n",
    "ax.scatter3D(xdata, ydata, zdata, c=zdata, cmap='Greens');"
   ]
  }
 ],
 "metadata": {
  "kernelspec": {
   "display_name": "Python 3",
   "language": "python",
   "name": "python3"
  },
  "language_info": {
   "codemirror_mode": {
    "name": "ipython",
    "version": 3
   },
   "file_extension": ".py",
   "mimetype": "text/x-python",
   "name": "python",
   "nbconvert_exporter": "python",
   "pygments_lexer": "ipython3",
   "version": "3.6.12"
  }
 },
 "nbformat": 4,
 "nbformat_minor": 4
}
