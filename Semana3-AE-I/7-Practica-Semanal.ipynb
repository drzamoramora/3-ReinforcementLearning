{
 "cells": [
  {
   "cell_type": "markdown",
   "metadata": {},
   "source": [
    "## Practica Semanal\n",
    "\n",
    "Esta semana uds van a generar caras a partir del dataset de imagens de Anime!\n",
    "Pueden encontrar el dataset en https://www.kaggle.com/soumikrakshit/anime-faces\n",
    "\n",
    "Estos son algunos ejemplos de imagenes\n",
    "\n",
    "<img src=\"img/a1.png\" style=\"float:left\" />\n",
    "<img src=\"img/a2.png\" style=\"float:left\" />\n",
    "<img src=\"img/a3.png\" style=\"float:left\" />\n",
    "<img src=\"img/a4.png\" style=\"float:left\" />\n",
    "\n",
    "<div style=\"clear:both;\"></div>\n",
    "\n",
    "Caracteristicas del dataset:\n",
    "\n",
    "- Existen caras no humanas (ruido)\n",
    "- Aproximadamente 21600 imagenes\n",
    "- Imagenes a color de 64x64\n",
    "\n",
    "Entregable:\n",
    "- Deben cargar las imagenes (1pt)\n",
    "- Crear la rquitectura convolucional (5pts)\n",
    "- Generar un metodo GenerateAnime() que cada vez que se llame, genere 5 nuevos personajes! (5pts)\n",
    "\n",
    "Recomendaciones:\n",
    "- usen Colab GPU o bien el Cloud para entrenar. \n",
    "- traten de usar todo el dataset, pero pueden probar inicialmente con 5000 mil imagenes."
   ]
  }
 ],
 "metadata": {
  "kernelspec": {
   "display_name": "Python 3",
   "language": "python",
   "name": "python3"
  },
  "language_info": {
   "codemirror_mode": {
    "name": "ipython",
    "version": 3
   },
   "file_extension": ".py",
   "mimetype": "text/x-python",
   "name": "python",
   "nbconvert_exporter": "python",
   "pygments_lexer": "ipython3",
   "version": "3.6.12"
  }
 },
 "nbformat": 4,
 "nbformat_minor": 4
}
