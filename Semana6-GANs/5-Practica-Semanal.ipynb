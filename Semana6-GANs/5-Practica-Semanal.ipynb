{
 "cells": [
  {
   "cell_type": "markdown",
   "metadata": {},
   "source": [
    "### Vamos a generar imagenes:\n",
    "\n",
    "Esta semana ud a buscar un dataset de imagenes de tamano maximo 64x64. Puede escoger un dataset de imagenes mas grandes bajo su propio riesgo ($$$) ya que las GANS son dificiles de entrenar y duran mucho aprendiendo aun asi con multiples GPU!\n",
    "\n",
    "**Aqui les dejo algunos datasets.**(Escoja uno)\n",
    "\n",
    "- Anime Faces: https://www.kaggle.com/soumikrakshit/anime-faces\n",
    "- Pokemon Dataset (256x256): https://www.kaggle.com/kvpratama/pokemon-images-dataset\n",
    "- Abstract Art (necesita resize): https://www.kaggle.com/bryanb/abstract-art-gallery\n",
    "- LEGO munequitos (512x512): https://www.kaggle.com/ihelon/lego-minifigures-classification\n",
    "- Animal Faces (512x512): https://www.kaggle.com/andrewmvd/animal-faces\n",
    "- Caras Simpsons (200x200): https://www.kaggle.com/kostastokis/simpsons-faces\n",
    "\n",
    "**Escoja una arquitectura GAN**\n",
    "\n",
    "le recomiendo usar StyleGan o StyleGan2, si quiere probar alguna otra, buena suerte!"
   ]
  },
  {
   "cell_type": "code",
   "execution_count": null,
   "metadata": {},
   "outputs": [],
   "source": []
  }
 ],
 "metadata": {
  "kernelspec": {
   "display_name": "Python 3",
   "language": "python",
   "name": "python3"
  },
  "language_info": {
   "codemirror_mode": {
    "name": "ipython",
    "version": 3
   },
   "file_extension": ".py",
   "mimetype": "text/x-python",
   "name": "python",
   "nbconvert_exporter": "python",
   "pygments_lexer": "ipython3",
   "version": "3.6.10"
  }
 },
 "nbformat": 4,
 "nbformat_minor": 4
}
