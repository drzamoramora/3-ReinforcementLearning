{
 "cells": [
  {
   "cell_type": "markdown",
   "metadata": {},
   "source": [
    "## Tarea Semanal\n",
    "### Reinforcement Learning - Policy Gradients\n",
    "\n",
    "Ud va aplicar los aprendido con el ejercicio de Pole Cart hacia uno de estos dos ejemplos. Escoja solamente uno.\n",
    "Ud debe entregar el codigo re-utilizando y ajustando lo que pueda del notebook anterior. \n",
    "\n",
    "Pueden desarrollar la tarea en parejas."
   ]
  },
  {
   "cell_type": "code",
   "execution_count": 2,
   "metadata": {},
   "outputs": [],
   "source": [
    "import gym\n",
    "import matplotlib.pyplot as plt\n",
    "import numpy as np\n",
    "\n",
    "#!pip install gym[atari]\n",
    "\n",
    "import gym"
   ]
  },
  {
   "cell_type": "code",
   "execution_count": null,
   "metadata": {},
   "outputs": [],
   "source": [
    "# https://github.com/openai/gym/wiki/Pendulum-v0\n",
    "\n",
    "env = gym.make('Pendulum-v0')\n",
    "env.reset()\n",
    "for _ in range(1000):\n",
    "    env.render()\n",
    "    obs, reward, done, info = env.step(env.action_space.sample()) # ejecuta un random action\n",
    "    #print(obs,reward, done)\n",
    "env.close()"
   ]
  },
  {
   "cell_type": "code",
   "execution_count": 5,
   "metadata": {},
   "outputs": [],
   "source": [
    "#https://github.com/openai/gym/wiki/MountainCarContinuous-v0\n",
    "    \n",
    "env = gym.make('MountainCarContinuous-v0')\n",
    "env.reset()\n",
    "for _ in range(1000):\n",
    "    env.render()\n",
    "    obs, reward, done, info = env.step(env.action_space.sample()) # ejecuta un random action\n",
    "    #print(obs,reward, done)\n",
    "env.close()"
   ]
  },
  {
   "cell_type": "code",
   "execution_count": null,
   "metadata": {},
   "outputs": [],
   "source": []
  }
 ],
 "metadata": {
  "kernelspec": {
   "display_name": "Python 3",
   "language": "python",
   "name": "python3"
  },
  "language_info": {
   "codemirror_mode": {
    "name": "ipython",
    "version": 3
   },
   "file_extension": ".py",
   "mimetype": "text/x-python",
   "name": "python",
   "nbconvert_exporter": "python",
   "pygments_lexer": "ipython3",
   "version": "3.6.12"
  }
 },
 "nbformat": 4,
 "nbformat_minor": 4
}
