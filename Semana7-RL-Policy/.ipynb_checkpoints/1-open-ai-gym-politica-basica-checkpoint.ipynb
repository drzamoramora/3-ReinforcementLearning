{
 "cells": [
  {
   "cell_type": "markdown",
   "metadata": {},
   "source": [
    "## Introduccion a Aprendizaje por Refuerzo (RL)\n",
    "\n",
    "**Que es RL?**\n",
    "\n",
    "El aprendizaje por refuerzo (RL) es un área del aprendizaje automático que se ocupa de cómo los agentes inteligentes deben tomar acciones en un entorno para maximizar la noción de recompensa acumulativa.\n",
    "\n",
    "El aprendizaje por refuerzo se diferencia del aprendizaje supervisado en que no necesita que se presenten pares de entrada / salida etiquetados y en que no necesita que se corrijan explícitamente acciones subóptimas. En cambio, la atención se centra en encontrar un equilibrio entre la exploración (de un territorio inexplorado) y la explotación (del conocimiento actual).\n",
    "\n",
    "<a target=\"_blank\" href=\"https://www.thestreet.com/economonitor/financial-markets/new-artificial-intelligence-are-based-on-old-models-of-human-behavior\">RL Chiken</a>\n",
    "\n",
    "\n",
    "**Que son agentes inteligentes?**\n",
    "\n",
    "En inteligencia artificial, un agente inteligente (IA) se refiere a una entidad autónoma que actúa, dirigiendo su actividad hacia el logro de objetivos (es decir, es un agente), sobre un entorno mediante la observación a través de sensores y consecuentes actuadores (es decir, es inteligente). Los agentes inteligentes también pueden aprender o utilizar el conocimiento para lograr sus objetivos. Pueden ser muy simples o muy complejas. Una máquina réflex, como un termostato, se considera un ejemplo de agente inteligente.\n",
    "\n",
    "Estaremos explorando mas teoria de agentes inteligentes en el curso 4, por ahora comprendamos como entrenar uno utilizando aprendizaje por refuerzo.\n",
    "\n",
    "\n",
    "### Tipos de RL\n",
    "\n",
    "Se ha desarrollado varios modelos para enfrentar el problema del RL. Sin embargo 2 de los mas exitosos son RL basado en **politicas (policy gradients)** y **Q Learning** (Q-Networks los cuales incluyen procesos de desicion markovianos).\n",
    "\n",
    "Esta semana estudiaremos el primer tipo: Policy Gradients.\n",
    "\n",
    "### Policy Gradients\n",
    "\n",
    "#### Optimizacion de Premios (rewards)\n",
    "\n",
    "Un agente inteligente realiza observaciones del ambiente, y toma acciones con el fin de obtener un premio. El objetivo final es que el agente maximice estos premios a través del tiempo.\n",
    "\n",
    "El agente inteligente al principio no tiene noción de lo que hace y simplemente reacciona contra el ambiente (random). Conforme para el tiempo t, el agente va recibiendo premios por algunas acciones, que refuerzan el modelo interno (el estado) lo cual ayudan al agente a aprender sobre las acciones que le brindan alguna ganancia. \n",
    "\n",
    "Para iniciar a comprender RL, vamos a desarrollar esto mediante un ejemplo basico de una politica, sin mucha inteligencia. Por el moemento sera suficiente para comprender la idea de las politicas. En nuestro proximo notebook, utilizaremos una politica basada en gradientes, que no solo es mas compleja, sino que tambien da resultados sorprendentes de aprendizaje.\n",
    "\n",
    "### Open AI - GYM\n",
    "\n",
    "Open AI Gym es un conjunto de herramientas para desarrollar y comparar algoritmos de aprendizaje por refuerzo. Es compatible con la enseñanza de los agentes, desde caminar hasta jugar juegos como Pong o Pinball.\n",
    "\n",
    "Vamos a desarrollar nuestr primer codigo para poder balancear un pivote sobre un carrito.\n",
    "\n",
    "https://gym.openai.com/\n",
    "\n",
    "**nuestro problema:**\n",
    "\n",
    "Un poste está unido por una articulación no accionada a un carro, que se mueve a lo largo de una pista sin fricción. El sistema se controla aplicando una fuerza de +1 o -1 al carro. El péndulo comienza en posición vertical y el objetivo es evitar que se caiga. Se proporciona una recompensa de +1 por cada paso de tiempo que el poste permanece en posición vertical. El episodio termina cuando el poste se cae o el carro esta afuera de los limites de la pantalla de juego."
   ]
  },
  {
   "cell_type": "code",
   "execution_count": 1,
   "metadata": {},
   "outputs": [],
   "source": [
    "# conda install -c conda-forge gym\n",
    "import gym\n",
    "import matplotlib.pyplot as plt\n",
    "import numpy as np"
   ]
  },
  {
   "cell_type": "markdown",
   "metadata": {},
   "source": [
    "### Crear el ambiente de Cart Pole de Open AI GYM"
   ]
  },
  {
   "cell_type": "code",
   "execution_count": 2,
   "metadata": {},
   "outputs": [
    {
     "name": "stdout",
     "output_type": "stream",
     "text": [
      "[-0.02953907  0.04704494 -0.02461818  0.02147581]\n"
     ]
    }
   ],
   "source": [
    "env = gym.make(\"CartPole-v1\")\n",
    "obs = env.reset()\n",
    "\n",
    "# al hacer reset de ambiente, obtenemos la primera observacion que hace el agente al ambiente. \n",
    "# la observacion es un arreglo con 4 valores\n",
    "print(obs)\n",
    "\n",
    "#    Observation:\n",
    "#        Type: Box(4)\n",
    "#        Num     Observation               Min                     Max\n",
    "#        0       Cart Position             -4.8                    4.8\n",
    "#        1       Cart Velocity             -Inf                    Inf\n",
    "#        2       Pole Angle                -0.418 rad (-24 deg)    0.418 rad (24 deg)\n",
    "#        3       Pole Angular Velocity     -Inf                    Inf"
   ]
  },
  {
   "cell_type": "code",
   "execution_count": 3,
   "metadata": {},
   "outputs": [
    {
     "data": {
      "text/plain": [
       "<matplotlib.image.AxesImage at 0x18d337b60b8>"
      ]
     },
     "execution_count": 3,
     "metadata": {},
     "output_type": "execute_result"
    },
    {
     "data": {
      "image/png": "[encoded data removed]",
      "text/plain": [
       "<Figure size 432x288 with 1 Axes>"
      ]
     },
     "metadata": {
      "needs_background": "light"
     },
     "output_type": "display_data"
    }
   ],
   "source": [
    "img = env.render(mode=\"rgb_array\")\n",
    "plt.imshow(img)"
   ]
  },
  {
   "cell_type": "code",
   "execution_count": 4,
   "metadata": {},
   "outputs": [
    {
     "data": {
      "text/plain": [
       "Discrete(2)"
      ]
     },
     "execution_count": 4,
     "metadata": {},
     "output_type": "execute_result"
    }
   ],
   "source": [
    "# available actions in the environment \n",
    "\n",
    "# 0 for accelerate left and 1 to right.\n",
    "env.action_space\n",
    "\n",
    "# Type: Discrete(2)\n",
    "# Num   Action\n",
    "# 0     Push cart to the left\n",
    "# 1     Push cart to the right"
   ]
  },
  {
   "cell_type": "markdown",
   "metadata": {},
   "source": [
    "### Ejemplo de aceleracion hacia la derecha (un solo step)"
   ]
  },
  {
   "cell_type": "code",
   "execution_count": 5,
   "metadata": {},
   "outputs": [
    {
     "name": "stdout",
     "output_type": "stream",
     "text": [
      "obs [-0.02859817  0.24251113 -0.02418866 -0.27887165]\n",
      "reward 1.0\n",
      "done False\n",
      "info {}\n"
     ]
    },
    {
     "data": {
      "text/plain": [
       "<matplotlib.image.AxesImage at 0x18d33ac1630>"
      ]
     },
     "execution_count": 5,
     "metadata": {},
     "output_type": "execute_result"
    },
    {
     "data": {
      "image/png": "[encoded data removed]",
      "text/plain": [
       "<Figure size 432x288 with 1 Axes>"
      ]
     },
     "metadata": {
      "needs_background": "light"
     },
     "output_type": "display_data"
    }
   ],
   "source": [
    "action = 1 # mueva hacia la derecha\n",
    "\n",
    "# pasamos la accion al ambiente (donde esta el agente)\n",
    "# esto devuelve los parametros del abiente\n",
    "obs, reward, done, info = env.step(action)\n",
    "\n",
    "print(\"obs\", obs) # la nueva observacion\n",
    "print(\"reward\", reward) # si no se cae el palo, da un premio = 1\n",
    "print(\"done\", done) #  indica si se murio el agente. osea el palo se cayo\n",
    "print(\"info\", info) # variable para devolver algun dato custom (no usado por el momento)\n",
    "\n",
    "img = env.render(mode=\"rgb_array\")\n",
    "plt.imshow(img)\n",
    "\n",
    "# [-0.02953907  0.04704494 -0.02461818  0.02147581]"
   ]
  },
  {
   "cell_type": "markdown",
   "metadata": {},
   "source": [
    "### Algopritmo de Politica Basica\n",
    "\n",
    "El carro acelera hacia la izquierda si el poste se inclina hacia la izquierda y viceversa.\n",
    "\n",
    "Nuestro objetivo es desarrollar un algoritmo que permita maximizar los premios a traves del tiempo.\n",
    "Vamos a acumular los premios por episodio en nuestro vector de premios (totals).\n",
    "\n",
    "Vamos a realizar varias simulaciones (episodes) para entrenar el modelo, donde en cada episodio hay un total de premios (episode_rewards) el cual vamos a reiniciar en cada episodio nuevo. Cada episodio esta compuesto por un conjunto de pasos.\n",
    "\n",
    "Pensemos en el episodio como un epoch, y el cada paso como un step de cuando entrenamos un algoritmo de ML supervisado."
   ]
  },
  {
   "cell_type": "code",
   "execution_count": 7,
   "metadata": {},
   "outputs": [
    {
     "name": "stdout",
     "output_type": "stream",
     "text": [
      "mean 43.034\n",
      "std 9.262874499851545\n",
      "min 24.0\n",
      "max 72.0\n"
     ]
    }
   ],
   "source": [
    "def basic_policy(obs):\n",
    "    angle = obs[2] # angulo del poste\n",
    "    return 0 if angle < 0 else 1\n",
    "\n",
    "totals = []\n",
    "for episode in range(500):\n",
    "    episode_rewards = 0\n",
    "    obs = env.reset()\n",
    "    for step in range(200):\n",
    "        action = basic_policy(obs)\n",
    "        obs, reward, done, info = env.step(action)\n",
    "        episode_rewards += reward\n",
    "        if done:\n",
    "            break\n",
    "    totals.append(episode_rewards)\n",
    "    env.render()\n",
    "    \n",
    "print(\"mean\",np.mean(totals))\n",
    "print(\"std\",np.std(totals))\n",
    "print(\"min\",np.min(totals))\n",
    "print(\"max\",np.max(totals))"
   ]
  },
  {
   "cell_type": "markdown",
   "metadata": {},
   "source": [
    "max cuenta que con 500 episodios, que la política nunca logró enderezar el poste durante más de X pasos. (por ejemplo max = 66).\n",
    "\n",
    "**nota importante**: la funcion basic policy no aprende. Solo reacciona. En nuestro proximo notebook, vamos a modificar esto (drasticamente) para que el agente pueda aprender de la experiencia (de los episodios y steps)"
   ]
  }
 ],
 "metadata": {
  "kernelspec": {
   "display_name": "Python 3",
   "language": "python",
   "name": "python3"
  },
  "language_info": {
   "codemirror_mode": {
    "name": "ipython",
    "version": 3
   },
   "file_extension": ".py",
   "mimetype": "text/x-python",
   "name": "python",
   "nbconvert_exporter": "python",
   "pygments_lexer": "ipython3",
   "version": "3.6.12"
  }
 },
 "nbformat": 4,
 "nbformat_minor": 4
}
